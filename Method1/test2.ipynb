{
 "cells": [
  {
   "cell_type": "code",
   "execution_count": 1,
   "metadata": {},
   "outputs": [],
   "source": [
    "import cv2\n",
    "import numpy as np\n",
    "import skimage.measure as skm"
   ]
  },
  {
   "cell_type": "code",
   "execution_count": 18,
   "metadata": {},
   "outputs": [],
   "source": [
    "def main(input_path, output_folder = 'results/', threshold_ratio=0.88, min_area = 7):\n",
    "    image_name = input_path.split('/')[-1] #get what is after the last /\n",
    "    image_name = image_name.split('.')[0]\n",
    "\n",
    "    # read the image in grayscale\n",
    "    image = cv2.imread(input_path, cv2.IMREAD_GRAYSCALE)\n",
    "    image_array = np.array(image)\n",
    "\n",
    "    # also import original image in color\n",
    "    image_color = cv2.imread(input_path, cv2.IMREAD_COLOR)\n",
    "\n",
    "    # Calculate mean intensity considering only pixels with intensity > 100\n",
    "    bright_pixels = image_array[image_array > 100]\n",
    "    mean_intensity = np.mean(bright_pixels)\n",
    "\n",
    "    # Calculate threshold as alpha * mean_intensity\n",
    "    # the threshold is proportional to the intensity of the sun for better robustness\n",
    "    threshold = round(threshold_ratio * mean_intensity)\n",
    "\n",
    "    # Create the mask of estimated sunspots\n",
    "    mask = image_array < threshold\n",
    "    color_mask = np.zeros_like(image_color)\n",
    "    color_mask[:,:,0] = mask\n",
    "    mask = color_mask\n",
    "\n",
    "    #Get connected components of the mask = the sunspots\n",
    "    labels = skm.label(mask, connectivity=2, background=0)\n",
    "    regionprops = skm.regionprops(labels)\n",
    "\n",
    "    #Filter the regions to keep only relevant ones\n",
    "    regionprops = [regionprop for regionprop in regionprops if  10000 >= regionprop.area_filled >= min_area]\n",
    "\n",
    "    # Create a mask for the borders\n",
    "    border_mask = np.zeros_like(image_color)\n",
    "\n",
    "    # Draw borders around each sunspot\n",
    "    for i, region in enumerate(regionprops):\n",
    "        if True or i % 2 == 0:  # Skip duplicate regions\n",
    "            filled_area = region.filled_image\n",
    "            minr, minc, _, maxr, maxc, _ = region.bbox\n",
    "            \n",
    "            # Create a temporary mask for this region\n",
    "            temp_mask = np.zeros((maxr - minr + 1, maxc - minc + 1), dtype=bool)\n",
    "            # Fill the mask with the filled area\n",
    "            temp_mask[0:filled_area.shape[0], 0:filled_area.shape[1]] = filled_area[:,:,0]\n",
    "            \n",
    "            # Find the boundary pixels\n",
    "            for x in range(temp_mask.shape[0]):\n",
    "                for y in range(temp_mask.shape[1]):\n",
    "                    if temp_mask[x, y]:\n",
    "                        # Check if this pixel is on the boundary\n",
    "                        if (x == 0 or x == temp_mask.shape[0]-1 or \n",
    "                            y == 0 or y == temp_mask.shape[1]-1 or\n",
    "                            not temp_mask[x-1, y] or not temp_mask[x+1, y] or\n",
    "                            not temp_mask[x, y-1] or not temp_mask[x, y+1]):\n",
    "                            # Map back to original coordinates\n",
    "                            border_mask[x + minr, y + minc] = [255, 150, 0] #Dark blue\n",
    "\n",
    "    print(image_color.shape, border_mask.shape)\n",
    "    # Superpose the borders on the original image\n",
    "    border_superposed = cv2.addWeighted(image_color, 1, border_mask, 1, 0)\n",
    "\n",
    "    # Display the analysis\n",
    "    print(f'Number of sunspots: {len(regionprops)//2}')\n",
    "    print('')\n",
    "    for i in range(len(regionprops)):\n",
    "        if True or i%2 == 0: #For some reason each label is repeated \n",
    "            print(f'Sunspot {i//2 + 1}: {int(regionprops[i].area_filled)} pixels')\n",
    "\n",
    "    # Save the resulting image\n",
    "    cv2.imwrite(f'results/output_{image_name}.jpg', border_superposed)"
   ]
  },
  {
   "cell_type": "code",
   "execution_count": 19,
   "metadata": {},
   "outputs": [
    {
     "name": "stdout",
     "output_type": "stream",
     "text": [
      "(1024, 1024, 3) (1024, 1024, 3)\n",
      "Number of sunspots: 5\n",
      "\n",
      "Sunspot 1: 61 pixels\n",
      "Sunspot 1: 64 pixels\n",
      "Sunspot 2: 18 pixels\n",
      "Sunspot 2: 393 pixels\n",
      "Sunspot 3: 74 pixels\n",
      "Sunspot 3: 9 pixels\n",
      "Sunspot 4: 158 pixels\n",
      "Sunspot 4: 130 pixels\n",
      "Sunspot 5: 56 pixels\n",
      "Sunspot 5: 19 pixels\n"
     ]
    }
   ],
   "source": [
    "main('../images/20250110_164500_1024_HMIIF.jpg')"
   ]
  }
 ],
 "metadata": {
  "kernelspec": {
   "display_name": "Python 3",
   "language": "python",
   "name": "python3"
  },
  "language_info": {
   "codemirror_mode": {
    "name": "ipython",
    "version": 3
   },
   "file_extension": ".py",
   "mimetype": "text/x-python",
   "name": "python",
   "nbconvert_exporter": "python",
   "pygments_lexer": "ipython3",
   "version": "3.10.0"
  }
 },
 "nbformat": 4,
 "nbformat_minor": 2
}
