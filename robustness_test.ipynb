{
 "cells": [
  {
   "cell_type": "markdown",
   "metadata": {},
   "source": [
    "For reminder, original models were calibrated on 1024x1024 images of HMI Flattened.  \n",
    "We will test their consistency on images taken at the same time with higher resolutions or without flattening."
   ]
  },
  {
   "cell_type": "markdown",
   "metadata": {},
   "source": [
    "## Higher resolution testing"
   ]
  },
  {
   "cell_type": "code",
   "execution_count": 17,
   "metadata": {},
   "outputs": [
    {
     "name": "stdout",
     "output_type": "stream",
     "text": [
      "Number of sunspots: 38\n",
      "\n",
      "Sunspot 1: 2535.0 pixels\n",
      "Sunspot 2: 18.0 pixels\n",
      "Sunspot 3: 126.0 pixels\n",
      "Sunspot 4: 48.0 pixels\n",
      "Sunspot 5: 498.0 pixels\n",
      "Sunspot 6: 9.0 pixels\n",
      "Sunspot 7: 51.0 pixels\n",
      "Sunspot 8: 30.0 pixels\n",
      "Sunspot 9: 9.0 pixels\n",
      "Sunspot 10: 33.0 pixels\n",
      "Sunspot 11: 618.0 pixels\n",
      "Sunspot 12: 9.0 pixels\n",
      "Sunspot 13: 12.0 pixels\n",
      "Sunspot 14: 15.0 pixels\n",
      "Sunspot 15: 12.0 pixels\n",
      "Sunspot 16: 87.0 pixels\n",
      "Sunspot 17: 897.0 pixels\n",
      "Sunspot 18: 417.0 pixels\n",
      "Sunspot 19: 24.0 pixels\n",
      "Sunspot 20: 36.0 pixels\n",
      "Sunspot 21: 3177.0 pixels\n",
      "Sunspot 22: 15.0 pixels\n",
      "Sunspot 23: 15.0 pixels\n",
      "Sunspot 24: 12.0 pixels\n",
      "Sunspot 25: 246.0 pixels\n",
      "Sunspot 26: 57.0 pixels\n",
      "Sunspot 27: 72.0 pixels\n",
      "Sunspot 28: 1350.0 pixels\n",
      "Sunspot 29: 1011.0 pixels\n",
      "Sunspot 30: 9.0 pixels\n",
      "Sunspot 31: 24.0 pixels\n",
      "Sunspot 32: 18.0 pixels\n",
      "Sunspot 33: 72.0 pixels\n",
      "Sunspot 34: 198.0 pixels\n",
      "Sunspot 35: 9.0 pixels\n",
      "Sunspot 36: 21.0 pixels\n",
      "Sunspot 37: 9.0 pixels\n",
      "Sunspot 38: 30.0 pixels\n",
      "Image with borders saved at Method1/results//output_20250120_003000_1024_HMIIF.jpg\n"
     ]
    }
   ],
   "source": [
    "import os\n",
    "\n",
    "absolute_path = os.path.abspath(\"images/20250120_003000_1024_HMIIF.jpg\")\n",
    "\n",
    "!python Method1/method1.py --input_path \"{absolute_path}\""
   ]
  },
  {
   "cell_type": "code",
   "execution_count": 18,
   "metadata": {},
   "outputs": [
    {
     "name": "stdout",
     "output_type": "stream",
     "text": [
      "Number of sunspots: 42\n",
      "\n",
      "Sunspot 1: 7.0 pixels\n",
      "Sunspot 2: 2572.0 pixels\n",
      "Sunspot 3: 17.0 pixels\n",
      "Sunspot 4: 129.0 pixels\n",
      "Sunspot 5: 49.0 pixels\n",
      "Sunspot 6: 508.0 pixels\n",
      "Sunspot 7: 7.0 pixels\n",
      "Sunspot 8: 46.0 pixels\n",
      "Sunspot 9: 33.0 pixels\n",
      "Sunspot 10: 7.0 pixels\n",
      "Sunspot 11: 7.0 pixels\n",
      "Sunspot 12: 31.0 pixels\n",
      "Sunspot 13: 642.0 pixels\n",
      "Sunspot 14: 8.0 pixels\n",
      "Sunspot 15: 8.0 pixels\n",
      "Sunspot 16: 7.0 pixels\n",
      "Sunspot 17: 9.0 pixels\n",
      "Sunspot 18: 10.0 pixels\n",
      "Sunspot 19: 9.0 pixels\n",
      "Sunspot 20: 96.0 pixels\n",
      "Sunspot 21: 930.0 pixels\n",
      "Sunspot 22: 424.0 pixels\n",
      "Sunspot 23: 22.0 pixels\n",
      "Sunspot 24: 37.0 pixels\n",
      "Sunspot 25: 7.0 pixels\n",
      "Sunspot 26: 3191.0 pixels\n",
      "Sunspot 27: 7.0 pixels\n",
      "Sunspot 28: 15.0 pixels\n",
      "Sunspot 29: 12.0 pixels\n",
      "Sunspot 30: 15.0 pixels\n",
      "Sunspot 31: 258.0 pixels\n",
      "Sunspot 32: 53.0 pixels\n",
      "Sunspot 33: 77.0 pixels\n",
      "Sunspot 34: 1344.0 pixels\n",
      "Sunspot 35: 15.0 pixels\n",
      "Sunspot 36: 1036.0 pixels\n",
      "Sunspot 37: 23.0 pixels\n",
      "Sunspot 38: 19.0 pixels\n",
      "Sunspot 39: 74.0 pixels\n",
      "Sunspot 40: 201.0 pixels\n",
      "Sunspot 41: 18.0 pixels\n",
      "Sunspot 42: 24.0 pixels\n",
      "Image with borders saved at Method1/results//output_20250120_003000_3072_HMIIF.jpg\n"
     ]
    }
   ],
   "source": [
    "absolute_path = os.path.abspath(\"images/20250120_003000_3072_HMIIF.jpg\")\n",
    "\n",
    "!python Method1/method1.py --input_path \"{absolute_path}\" "
   ]
  },
  {
   "cell_type": "code",
   "execution_count": 19,
   "metadata": {},
   "outputs": [
    {
     "name": "stdout",
     "output_type": "stream",
     "text": [
      "Number of sunspots: 41\n",
      "\n",
      "Sunspot 1: 7.0 pixels\n",
      "Sunspot 2: 2570.0 pixels\n",
      "Sunspot 3: 16.0 pixels\n",
      "Sunspot 4: 128.0 pixels\n",
      "Sunspot 5: 48.0 pixels\n",
      "Sunspot 6: 507.0 pixels\n",
      "Sunspot 7: 44.0 pixels\n",
      "Sunspot 8: 33.0 pixels\n",
      "Sunspot 9: 7.0 pixels\n",
      "Sunspot 10: 7.0 pixels\n",
      "Sunspot 11: 31.0 pixels\n",
      "Sunspot 12: 642.0 pixels\n",
      "Sunspot 13: 8.0 pixels\n",
      "Sunspot 14: 7.0 pixels\n",
      "Sunspot 15: 7.0 pixels\n",
      "Sunspot 16: 9.0 pixels\n",
      "Sunspot 17: 10.0 pixels\n",
      "Sunspot 18: 9.0 pixels\n",
      "Sunspot 19: 97.0 pixels\n",
      "Sunspot 20: 934.0 pixels\n",
      "Sunspot 21: 423.0 pixels\n",
      "Sunspot 22: 24.0 pixels\n",
      "Sunspot 23: 38.0 pixels\n",
      "Sunspot 24: 3193.0 pixels\n",
      "Sunspot 25: 7.0 pixels\n",
      "Sunspot 26: 15.0 pixels\n",
      "Sunspot 27: 12.0 pixels\n",
      "Sunspot 28: 15.0 pixels\n",
      "Sunspot 29: 258.0 pixels\n",
      "Sunspot 30: 53.0 pixels\n",
      "Sunspot 31: 77.0 pixels\n",
      "Sunspot 32: 1341.0 pixels\n",
      "Sunspot 33: 16.0 pixels\n",
      "Sunspot 34: 1035.0 pixels\n",
      "Sunspot 35: 23.0 pixels\n",
      "Sunspot 36: 20.0 pixels\n",
      "Sunspot 37: 75.0 pixels\n",
      "Sunspot 38: 200.0 pixels\n",
      "Sunspot 39: 18.0 pixels\n",
      "Sunspot 40: 7.0 pixels\n",
      "Sunspot 41: 23.0 pixels\n",
      "Image with borders saved at Method1/results//output_20250120_003000_4096_HMIIF.jpg\n"
     ]
    }
   ],
   "source": [
    "absolute_path = os.path.abspath(\"images/20250120_003000_4096_HMIIF.jpg\")\n",
    "\n",
    "!python Method1/method1.py --input_path \"{absolute_path}\""
   ]
  },
  {
   "cell_type": "markdown",
   "metadata": {},
   "source": [
    "#### Conclusion : \n",
    "Results are consistent"
   ]
  },
  {
   "cell_type": "markdown",
   "metadata": {},
   "source": [
    "## Different source testing"
   ]
  },
  {
   "cell_type": "code",
   "execution_count": 44,
   "metadata": {},
   "outputs": [
    {
     "name": "stdout",
     "output_type": "stream",
     "text": [
      "Number of sunspots: 20\n",
      "\n",
      "Sunspot 1: 33.0 pixels\n",
      "Sunspot 2: 33.0 pixels\n",
      "Sunspot 3: 33.0 pixels\n",
      "Sunspot 4: 30.0 pixels\n",
      "Sunspot 5: 1212.0 pixels\n",
      "Sunspot 6: 180.0 pixels\n",
      "Sunspot 7: 213.0 pixels\n",
      "Sunspot 8: 102.0 pixels\n",
      "Sunspot 9: 402.0 pixels\n",
      "Sunspot 10: 33.0 pixels\n",
      "Sunspot 11: 39.0 pixels\n",
      "Sunspot 12: 840.0 pixels\n",
      "Sunspot 13: 84.0 pixels\n",
      "Sunspot 14: 81.0 pixels\n",
      "Sunspot 15: 171.0 pixels\n",
      "Sunspot 16: 60.0 pixels\n",
      "Sunspot 17: 348.0 pixels\n",
      "Sunspot 18: 42.0 pixels\n",
      "Sunspot 19: 78.0 pixels\n",
      "Sunspot 20: 39.0 pixels\n",
      "Image with borders saved at Method1/results//output_20250120_003000_1024_HMIIC.jpg\n"
     ]
    }
   ],
   "source": [
    "absolute_path = os.path.abspath(\"images/20250120_003000_1024_HMIIC.jpg\")\n",
    "\n",
    "!python Method1/method1.py --input_path \"{absolute_path}\" --threshold_ratio 0.88 --min_area 30"
   ]
  },
  {
   "cell_type": "markdown",
   "metadata": {},
   "source": [
    "#### Conclusion :  \n",
    " Doesn't work as well as with flattened data. With default values, this method finds sunspots where there aren't : image intensity decreases steadily when far from center. As a consequence, the border is sometimes considered as a sunspot, merged with the background. The filtering of sunspots discards this fake \"border sunspot\" when it is connected with the background, but keeps the fake sunspots far enough from the border.  \n",
    "To adress this issue, min_area has been increased. This doesn't solve everything though. Putting the min_area at around 80 keeps only real sunspots but discards small ones. One can also reduce the threshold to have be less sensitive to sunspots, but then some are missed."
   ]
  },
  {
   "cell_type": "markdown",
   "metadata": {},
   "source": [
    "## With method 2"
   ]
  },
  {
   "cell_type": "markdown",
   "metadata": {},
   "source": [
    "#### Higher resolution testing"
   ]
  },
  {
   "cell_type": "code",
   "execution_count": 45,
   "metadata": {},
   "outputs": [
    {
     "name": "stdout",
     "output_type": "stream",
     "text": [
      "Method2/results/"
     ]
    },
    {
     "name": "stderr",
     "output_type": "stream",
     "text": [
      "d:\\Ecole\\sunspots_finder\\sunspots_finder-1\\Method2\\method2.py:182: FutureWarning: You are using `torch.load` with `weights_only=False` (the current default value), which uses the default pickle module implicitly. It is possible to construct malicious pickle data which will execute arbitrary code during unpickling (See https://github.com/pytorch/pytorch/blob/main/SECURITY.md#untrusted-models for more details). In a future release, the default value for `weights_only` will be flipped to `True`. This limits the functions that could be executed during unpickling. Arbitrary objects will no longer be allowed to be loaded via this mode unless they are explicitly allowlisted by the user via `torch.serialization.add_safe_globals`. We recommend you start setting `weights_only=True` for any use case where you don't have full control of the loaded file. Please open an issue on GitHub for any issues related to this experimental feature.\n",
      "  model.load_state_dict(torch.load('Method2/new_model.pth'))\n"
     ]
    },
    {
     "name": "stdout",
     "output_type": "stream",
     "text": [
      "\n",
      "Number of sunspots: 12\n",
      "\n",
      "Sunspot 1: 320 pixels\n",
      "Sunspot 2: 64 pixels\n",
      "Sunspot 3: 64 pixels\n",
      "Sunspot 4: 16 pixels\n",
      "Sunspot 5: 64 pixels\n",
      "Sunspot 6: 128 pixels\n",
      "Sunspot 7: 416 pixels\n",
      "Sunspot 8: 64 pixels\n",
      "Sunspot 9: 16 pixels\n",
      "Sunspot 10: 256 pixels\n",
      "Sunspot 11: 16 pixels\n",
      "Sunspot 12: 32 pixels\n",
      "Image with borders saved at Method2/results//output_20250120_003000_1024_HMIIF.jpg\n"
     ]
    }
   ],
   "source": [
    "import os\n",
    "\n",
    "absolute_path = os.path.abspath(\"images/20250120_003000_1024_HMIIF.jpg\")\n",
    "\n",
    "!python Method2/method2.py --input_path \"{absolute_path}\""
   ]
  },
  {
   "cell_type": "code",
   "execution_count": 48,
   "metadata": {},
   "outputs": [
    {
     "name": "stdout",
     "output_type": "stream",
     "text": [
      "Method2/results/"
     ]
    },
    {
     "name": "stderr",
     "output_type": "stream",
     "text": [
      "d:\\Ecole\\sunspots_finder\\sunspots_finder-1\\Method2\\method2.py:182: FutureWarning: You are using `torch.load` with `weights_only=False` (the current default value), which uses the default pickle module implicitly. It is possible to construct malicious pickle data which will execute arbitrary code during unpickling (See https://github.com/pytorch/pytorch/blob/main/SECURITY.md#untrusted-models for more details). In a future release, the default value for `weights_only` will be flipped to `True`. This limits the functions that could be executed during unpickling. Arbitrary objects will no longer be allowed to be loaded via this mode unless they are explicitly allowlisted by the user via `torch.serialization.add_safe_globals`. We recommend you start setting `weights_only=True` for any use case where you don't have full control of the loaded file. Please open an issue on GitHub for any issues related to this experimental feature.\n",
      "  model.load_state_dict(torch.load('Method2/new_model.pth'))\n"
     ]
    },
    {
     "name": "stdout",
     "output_type": "stream",
     "text": [
      "\n",
      "Number of sunspots: 11\n",
      "\n",
      "Sunspot 1: 320 pixels\n",
      "Sunspot 2: 64 pixels\n",
      "Sunspot 3: 48 pixels\n",
      "Sunspot 4: 16 pixels\n",
      "Sunspot 5: 80 pixels\n",
      "Sunspot 6: 128 pixels\n",
      "Sunspot 7: 416 pixels\n",
      "Sunspot 8: 64 pixels\n",
      "Sunspot 9: 256 pixels\n",
      "Sunspot 10: 16 pixels\n",
      "Sunspot 11: 32 pixels\n",
      "Image with borders saved at Method2/results//output_20250120_003000_3072_HMIIF.jpg\n"
     ]
    }
   ],
   "source": [
    "import os\n",
    "\n",
    "absolute_path = os.path.abspath(\"images/20250120_003000_3072_HMIIF.jpg\")\n",
    "\n",
    "!python Method2/method2.py --input_path \"{absolute_path}\""
   ]
  },
  {
   "cell_type": "code",
   "execution_count": 49,
   "metadata": {},
   "outputs": [
    {
     "name": "stdout",
     "output_type": "stream",
     "text": [
      "Method2/results/\n",
      "Number of sunspots: 12\n",
      "\n",
      "Sunspot 1: 320 pixels\n",
      "Sunspot 2: 64 pixels\n",
      "Sunspot 3: 48 pixels\n",
      "Sunspot 4: 16 pixels\n",
      "Sunspot 5: 64 pixels\n",
      "Sunspot 6: 128 pixels\n",
      "Sunspot 7: 416 pixels\n",
      "Sunspot 8: 64 pixels\n",
      "Sunspot 9: 16 pixels\n",
      "Sunspot 10: 256 pixels\n",
      "Sunspot 11: 16 pixels\n",
      "Sunspot 12: 32 pixels\n",
      "Image with borders saved at Method2/results//output_20250120_003000_4096_HMIIF.jpg\n"
     ]
    },
    {
     "name": "stderr",
     "output_type": "stream",
     "text": [
      "d:\\Ecole\\sunspots_finder\\sunspots_finder-1\\Method2\\method2.py:182: FutureWarning: You are using `torch.load` with `weights_only=False` (the current default value), which uses the default pickle module implicitly. It is possible to construct malicious pickle data which will execute arbitrary code during unpickling (See https://github.com/pytorch/pytorch/blob/main/SECURITY.md#untrusted-models for more details). In a future release, the default value for `weights_only` will be flipped to `True`. This limits the functions that could be executed during unpickling. Arbitrary objects will no longer be allowed to be loaded via this mode unless they are explicitly allowlisted by the user via `torch.serialization.add_safe_globals`. We recommend you start setting `weights_only=True` for any use case where you don't have full control of the loaded file. Please open an issue on GitHub for any issues related to this experimental feature.\n",
      "  model.load_state_dict(torch.load('Method2/new_model.pth'))\n"
     ]
    }
   ],
   "source": [
    "import os\n",
    "\n",
    "absolute_path = os.path.abspath(\"images/20250120_003000_4096_HMIIF.jpg\")\n",
    "\n",
    "!python Method2/method2.py --input_path \"{absolute_path}\""
   ]
  },
  {
   "cell_type": "markdown",
   "metadata": {},
   "source": [
    "#### Conclusion:\n",
    "\n",
    "Method 2 is also self-consistent, which is expected since it starts by reducing the resolution of the image."
   ]
  },
  {
   "cell_type": "markdown",
   "metadata": {},
   "source": [
    "#### Different source testing"
   ]
  },
  {
   "cell_type": "code",
   "execution_count": 50,
   "metadata": {},
   "outputs": [
    {
     "name": "stdout",
     "output_type": "stream",
     "text": [
      "Method2/results/\n",
      "Number of sunspots: 5\n",
      "\n",
      "Sunspot 1: 192 pixels\n",
      "Sunspot 2: 96 pixels\n",
      "Sunspot 3: 432 pixels\n",
      "Sunspot 4: 32 pixels\n",
      "Sunspot 5: 224 pixels\n",
      "Image with borders saved at Method2/results//output_20250120_003000_1024_HMIIC.jpg\n"
     ]
    },
    {
     "name": "stderr",
     "output_type": "stream",
     "text": [
      "d:\\Ecole\\sunspots_finder\\sunspots_finder-1\\Method2\\method2.py:182: FutureWarning: You are using `torch.load` with `weights_only=False` (the current default value), which uses the default pickle module implicitly. It is possible to construct malicious pickle data which will execute arbitrary code during unpickling (See https://github.com/pytorch/pytorch/blob/main/SECURITY.md#untrusted-models for more details). In a future release, the default value for `weights_only` will be flipped to `True`. This limits the functions that could be executed during unpickling. Arbitrary objects will no longer be allowed to be loaded via this mode unless they are explicitly allowlisted by the user via `torch.serialization.add_safe_globals`. We recommend you start setting `weights_only=True` for any use case where you don't have full control of the loaded file. Please open an issue on GitHub for any issues related to this experimental feature.\n",
      "  model.load_state_dict(torch.load('Method2/new_model.pth'))\n"
     ]
    }
   ],
   "source": [
    "import os\n",
    "\n",
    "absolute_path = os.path.abspath(\"images/20250120_003000_1024_HMIIC.jpg\")\n",
    "\n",
    "!python Method2/method2.py --input_path \"{absolute_path}\""
   ]
  },
  {
   "cell_type": "markdown",
   "metadata": {},
   "source": [
    "### Conclusion:\n",
    "\n",
    "Performance is roughly the same with another source: a certain amount of sunspots are not detected. At least this method doesn't hallucinate sunspots."
   ]
  }
 ],
 "metadata": {
  "kernelspec": {
   "display_name": "Python 3",
   "language": "python",
   "name": "python3"
  },
  "language_info": {
   "codemirror_mode": {
    "name": "ipython",
    "version": 3
   },
   "file_extension": ".py",
   "mimetype": "text/x-python",
   "name": "python",
   "nbconvert_exporter": "python",
   "pygments_lexer": "ipython3",
   "version": "3.10.0"
  }
 },
 "nbformat": 4,
 "nbformat_minor": 2
}
