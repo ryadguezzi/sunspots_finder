{
 "cells": [
  {
   "cell_type": "markdown",
   "metadata": {},
   "source": [
    "For reminder, original models were calibrated on 1024x1024 images of HMI Flattened.  \n",
    "We will test their consistency on images taken at the same time with higher resolutions or without flattening."
   ]
  },
  {
   "cell_type": "markdown",
   "metadata": {},
   "source": [
    "## Higher resolution testing"
   ]
  },
  {
   "cell_type": "code",
   "execution_count": 17,
   "metadata": {},
   "outputs": [
    {
     "name": "stdout",
     "output_type": "stream",
     "text": [
      "Number of sunspots: 38\n",
      "\n",
      "Sunspot 1: 2535.0 pixels\n",
      "Sunspot 2: 18.0 pixels\n",
      "Sunspot 3: 126.0 pixels\n",
      "Sunspot 4: 48.0 pixels\n",
      "Sunspot 5: 498.0 pixels\n",
      "Sunspot 6: 9.0 pixels\n",
      "Sunspot 7: 51.0 pixels\n",
      "Sunspot 8: 30.0 pixels\n",
      "Sunspot 9: 9.0 pixels\n",
      "Sunspot 10: 33.0 pixels\n",
      "Sunspot 11: 618.0 pixels\n",
      "Sunspot 12: 9.0 pixels\n",
      "Sunspot 13: 12.0 pixels\n",
      "Sunspot 14: 15.0 pixels\n",
      "Sunspot 15: 12.0 pixels\n",
      "Sunspot 16: 87.0 pixels\n",
      "Sunspot 17: 897.0 pixels\n",
      "Sunspot 18: 417.0 pixels\n",
      "Sunspot 19: 24.0 pixels\n",
      "Sunspot 20: 36.0 pixels\n",
      "Sunspot 21: 3177.0 pixels\n",
      "Sunspot 22: 15.0 pixels\n",
      "Sunspot 23: 15.0 pixels\n",
      "Sunspot 24: 12.0 pixels\n",
      "Sunspot 25: 246.0 pixels\n",
      "Sunspot 26: 57.0 pixels\n",
      "Sunspot 27: 72.0 pixels\n",
      "Sunspot 28: 1350.0 pixels\n",
      "Sunspot 29: 1011.0 pixels\n",
      "Sunspot 30: 9.0 pixels\n",
      "Sunspot 31: 24.0 pixels\n",
      "Sunspot 32: 18.0 pixels\n",
      "Sunspot 33: 72.0 pixels\n",
      "Sunspot 34: 198.0 pixels\n",
      "Sunspot 35: 9.0 pixels\n",
      "Sunspot 36: 21.0 pixels\n",
      "Sunspot 37: 9.0 pixels\n",
      "Sunspot 38: 30.0 pixels\n",
      "Image with borders saved at Method1/results//output_20250120_003000_1024_HMIIF.jpg\n"
     ]
    }
   ],
   "source": [
    "import os\n",
    "\n",
    "absolute_path = os.path.abspath(\"images/20250120_003000_1024_HMIIF.jpg\")\n",
    "\n",
    "!python Method1/method1.py --input_path \"{absolute_path}\""
   ]
  },
  {
   "cell_type": "code",
   "execution_count": 18,
   "metadata": {},
   "outputs": [
    {
     "name": "stdout",
     "output_type": "stream",
     "text": [
      "Number of sunspots: 42\n",
      "\n",
      "Sunspot 1: 7.0 pixels\n",
      "Sunspot 2: 2572.0 pixels\n",
      "Sunspot 3: 17.0 pixels\n",
      "Sunspot 4: 129.0 pixels\n",
      "Sunspot 5: 49.0 pixels\n",
      "Sunspot 6: 508.0 pixels\n",
      "Sunspot 7: 7.0 pixels\n",
      "Sunspot 8: 46.0 pixels\n",
      "Sunspot 9: 33.0 pixels\n",
      "Sunspot 10: 7.0 pixels\n",
      "Sunspot 11: 7.0 pixels\n",
      "Sunspot 12: 31.0 pixels\n",
      "Sunspot 13: 642.0 pixels\n",
      "Sunspot 14: 8.0 pixels\n",
      "Sunspot 15: 8.0 pixels\n",
      "Sunspot 16: 7.0 pixels\n",
      "Sunspot 17: 9.0 pixels\n",
      "Sunspot 18: 10.0 pixels\n",
      "Sunspot 19: 9.0 pixels\n",
      "Sunspot 20: 96.0 pixels\n",
      "Sunspot 21: 930.0 pixels\n",
      "Sunspot 22: 424.0 pixels\n",
      "Sunspot 23: 22.0 pixels\n",
      "Sunspot 24: 37.0 pixels\n",
      "Sunspot 25: 7.0 pixels\n",
      "Sunspot 26: 3191.0 pixels\n",
      "Sunspot 27: 7.0 pixels\n",
      "Sunspot 28: 15.0 pixels\n",
      "Sunspot 29: 12.0 pixels\n",
      "Sunspot 30: 15.0 pixels\n",
      "Sunspot 31: 258.0 pixels\n",
      "Sunspot 32: 53.0 pixels\n",
      "Sunspot 33: 77.0 pixels\n",
      "Sunspot 34: 1344.0 pixels\n",
      "Sunspot 35: 15.0 pixels\n",
      "Sunspot 36: 1036.0 pixels\n",
      "Sunspot 37: 23.0 pixels\n",
      "Sunspot 38: 19.0 pixels\n",
      "Sunspot 39: 74.0 pixels\n",
      "Sunspot 40: 201.0 pixels\n",
      "Sunspot 41: 18.0 pixels\n",
      "Sunspot 42: 24.0 pixels\n",
      "Image with borders saved at Method1/results//output_20250120_003000_3072_HMIIF.jpg\n"
     ]
    }
   ],
   "source": [
    "absolute_path = os.path.abspath(\"images/20250120_003000_3072_HMIIF.jpg\")\n",
    "\n",
    "!python Method1/method1.py --input_path \"{absolute_path}\" "
   ]
  },
  {
   "cell_type": "code",
   "execution_count": 19,
   "metadata": {},
   "outputs": [
    {
     "name": "stdout",
     "output_type": "stream",
     "text": [
      "Number of sunspots: 41\n",
      "\n",
      "Sunspot 1: 7.0 pixels\n",
      "Sunspot 2: 2570.0 pixels\n",
      "Sunspot 3: 16.0 pixels\n",
      "Sunspot 4: 128.0 pixels\n",
      "Sunspot 5: 48.0 pixels\n",
      "Sunspot 6: 507.0 pixels\n",
      "Sunspot 7: 44.0 pixels\n",
      "Sunspot 8: 33.0 pixels\n",
      "Sunspot 9: 7.0 pixels\n",
      "Sunspot 10: 7.0 pixels\n",
      "Sunspot 11: 31.0 pixels\n",
      "Sunspot 12: 642.0 pixels\n",
      "Sunspot 13: 8.0 pixels\n",
      "Sunspot 14: 7.0 pixels\n",
      "Sunspot 15: 7.0 pixels\n",
      "Sunspot 16: 9.0 pixels\n",
      "Sunspot 17: 10.0 pixels\n",
      "Sunspot 18: 9.0 pixels\n",
      "Sunspot 19: 97.0 pixels\n",
      "Sunspot 20: 934.0 pixels\n",
      "Sunspot 21: 423.0 pixels\n",
      "Sunspot 22: 24.0 pixels\n",
      "Sunspot 23: 38.0 pixels\n",
      "Sunspot 24: 3193.0 pixels\n",
      "Sunspot 25: 7.0 pixels\n",
      "Sunspot 26: 15.0 pixels\n",
      "Sunspot 27: 12.0 pixels\n",
      "Sunspot 28: 15.0 pixels\n",
      "Sunspot 29: 258.0 pixels\n",
      "Sunspot 30: 53.0 pixels\n",
      "Sunspot 31: 77.0 pixels\n",
      "Sunspot 32: 1341.0 pixels\n",
      "Sunspot 33: 16.0 pixels\n",
      "Sunspot 34: 1035.0 pixels\n",
      "Sunspot 35: 23.0 pixels\n",
      "Sunspot 36: 20.0 pixels\n",
      "Sunspot 37: 75.0 pixels\n",
      "Sunspot 38: 200.0 pixels\n",
      "Sunspot 39: 18.0 pixels\n",
      "Sunspot 40: 7.0 pixels\n",
      "Sunspot 41: 23.0 pixels\n",
      "Image with borders saved at Method1/results//output_20250120_003000_4096_HMIIF.jpg\n"
     ]
    }
   ],
   "source": [
    "absolute_path = os.path.abspath(\"images/20250120_003000_4096_HMIIF.jpg\")\n",
    "\n",
    "!python Method1/method1.py --input_path \"{absolute_path}\""
   ]
  },
  {
   "cell_type": "markdown",
   "metadata": {},
   "source": [
    "#### Conclusion : Results are consistent"
   ]
  },
  {
   "cell_type": "markdown",
   "metadata": {},
   "source": [
    "## Different source testing"
   ]
  },
  {
   "cell_type": "code",
   "execution_count": 44,
   "metadata": {},
   "outputs": [
    {
     "name": "stdout",
     "output_type": "stream",
     "text": [
      "Number of sunspots: 20\n",
      "\n",
      "Sunspot 1: 33.0 pixels\n",
      "Sunspot 2: 33.0 pixels\n",
      "Sunspot 3: 33.0 pixels\n",
      "Sunspot 4: 30.0 pixels\n",
      "Sunspot 5: 1212.0 pixels\n",
      "Sunspot 6: 180.0 pixels\n",
      "Sunspot 7: 213.0 pixels\n",
      "Sunspot 8: 102.0 pixels\n",
      "Sunspot 9: 402.0 pixels\n",
      "Sunspot 10: 33.0 pixels\n",
      "Sunspot 11: 39.0 pixels\n",
      "Sunspot 12: 840.0 pixels\n",
      "Sunspot 13: 84.0 pixels\n",
      "Sunspot 14: 81.0 pixels\n",
      "Sunspot 15: 171.0 pixels\n",
      "Sunspot 16: 60.0 pixels\n",
      "Sunspot 17: 348.0 pixels\n",
      "Sunspot 18: 42.0 pixels\n",
      "Sunspot 19: 78.0 pixels\n",
      "Sunspot 20: 39.0 pixels\n",
      "Image with borders saved at Method1/results//output_20250120_003000_1024_HMIIC.jpg\n"
     ]
    }
   ],
   "source": [
    "absolute_path = os.path.abspath(\"images/20250120_003000_1024_HMIIC.jpg\")\n",
    "\n",
    "!python Method1/method1.py --input_path \"{absolute_path}\" --threshold_ratio 0.88 --min_area 30"
   ]
  }
 ],
 "metadata": {
  "kernelspec": {
   "display_name": "Python 3",
   "language": "python",
   "name": "python3"
  },
  "language_info": {
   "codemirror_mode": {
    "name": "ipython",
    "version": 3
   },
   "file_extension": ".py",
   "mimetype": "text/x-python",
   "name": "python",
   "nbconvert_exporter": "python",
   "pygments_lexer": "ipython3",
   "version": "3.10.0"
  }
 },
 "nbformat": 4,
 "nbformat_minor": 2
}
